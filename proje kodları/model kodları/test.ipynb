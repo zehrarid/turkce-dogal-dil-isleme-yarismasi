{
 "cells": [
  {
   "cell_type": "code",
   "execution_count": 11,
   "metadata": {},
   "outputs": [],
   "source": [
    "from transformers import BertTokenizer, BertModel\n",
    "import torch\n",
    "from torch import nn"
   ]
  },
  {
   "cell_type": "code",
   "execution_count": 12,
   "metadata": {},
   "outputs": [],
   "source": [
    "class BertClassifier(nn.Module):\n",
    "\n",
    "    def __init__(self, dropout=0.5):\n",
    "\n",
    "        super(BertClassifier, self).__init__()\n",
    "\n",
    "        self.bert = BertModel.from_pretrained(\"dbmdz/bert-base-turkish-cased\")\n",
    "        self.dropout = nn.Dropout(dropout)\n",
    "        self.linear = nn.Linear(768, 4)\n",
    "        self.relu = nn.ReLU()\n",
    "\n",
    "    def forward(self, input_id, mask):\n",
    "\n",
    "        _, pooled_output = self.bert(input_ids= input_id, attention_mask=mask, return_dict=False)\n",
    "        dropout_output = self.dropout(pooled_output)\n",
    "        linear_output = self.linear(dropout_output)\n",
    "        final_layer = self.relu(linear_output)\n",
    "\n",
    "        return final_layer"
   ]
  },
  {
   "cell_type": "code",
   "execution_count": 24,
   "metadata": {},
   "outputs": [],
   "source": [
    "# load model and tokenizer with loading state dict\n",
    "model_offensive = torch.load('./models/bert_model_is_offensive.pt')\n",
    "model_target = torch.load('./models/bert_model_target.pt')\n",
    "tokenizer = BertTokenizer.from_pretrained(\"dbmdz/bert-base-turkish-cased\")"
   ]
  },
  {
   "cell_type": "code",
   "execution_count": 15,
   "metadata": {},
   "outputs": [],
   "source": [
    "def predict(model, sentence):\n",
    "    \n",
    "        use_cuda = torch.cuda.is_available()\n",
    "        device = torch.device(\"cuda\" if use_cuda else \"cpu\")\n",
    "    \n",
    "        if use_cuda:\n",
    "            model = model.cuda()\n",
    "    \n",
    "        with torch.no_grad():\n",
    "    \n",
    "            input_id = tokenizer(sentence, padding='max_length', max_length = 512, truncation=True, return_tensors=\"pt\")\n",
    "            mask = input_id['attention_mask'].to(device)\n",
    "            input_id = input_id['input_ids'].squeeze(1).to(device)\n",
    "    \n",
    "            output = model(input_id, mask)\n",
    "    \n",
    "            return output.argmax(dim=1).item()"
   ]
  },
  {
   "cell_type": "code",
   "execution_count": 35,
   "metadata": {},
   "outputs": [
    {
     "name": "stdout",
     "output_type": "stream",
     "text": [
      "Offensive, Racist\n"
     ]
    }
   ],
   "source": [
    "text = 'Beğenmiyorsan yallah arabistana git'\n",
    "prediction_1 = predict(model_offensive, text)\n",
    "if prediction_1 == 0:\n",
    "    print(\"Not offensive\")\n",
    "else:\n",
    "    prediction_2 = predict(model_target, text)\n",
    "    if prediction_2 == 0:\n",
    "        print(\"Offensive, Insult\")\n",
    "    elif prediction_2 == 1:\n",
    "        print(\"Offensive, Racist\")\n",
    "    elif prediction_2 == 2:\n",
    "        print(\"Offensive, Sexist\")\n",
    "    elif prediction_2 == 3:\n",
    "        print(\"Offensive, Profanity\")"
   ]
  }
 ],
 "metadata": {
  "kernelspec": {
   "display_name": "DataScience",
   "language": "python",
   "name": "python3"
  },
  "language_info": {
   "codemirror_mode": {
    "name": "ipython",
    "version": 3
   },
   "file_extension": ".py",
   "mimetype": "text/x-python",
   "name": "python",
   "nbconvert_exporter": "python",
   "pygments_lexer": "ipython3",
   "version": "3.9.7"
  },
  "orig_nbformat": 4
 },
 "nbformat": 4,
 "nbformat_minor": 2
}
