{
 "cells": [
  {
   "cell_type": "code",
   "execution_count": 1,
   "metadata": {},
   "outputs": [],
   "source": [
    "import pandas as pd"
   ]
  },
  {
   "cell_type": "code",
   "execution_count": 2,
   "metadata": {},
   "outputs": [],
   "source": [
    "df = pd.read_csv('./new_generated/kaggle_zehra/offensive.csv')"
   ]
  },
  {
   "cell_type": "code",
   "execution_count": 3,
   "metadata": {},
   "outputs": [
    {
     "name": "stderr",
     "output_type": "stream",
     "text": [
      "C:\\Users\\hasan\\AppData\\Local\\Temp/ipykernel_3360/1600469743.py:10: SettingWithCopyWarning: \n",
      "A value is trying to be set on a copy of a slice from a DataFrame\n",
      "\n",
      "See the caveats in the documentation: https://pandas.pydata.org/pandas-docs/stable/user_guide/indexing.html#returning-a-view-versus-a-copy\n",
      "  df['target'][i] = 'INSULT'\n",
      "C:\\Users\\hasan\\AppData\\Local\\Temp/ipykernel_3360/1600469743.py:6: SettingWithCopyWarning: \n",
      "A value is trying to be set on a copy of a slice from a DataFrame\n",
      "\n",
      "See the caveats in the documentation: https://pandas.pydata.org/pandas-docs/stable/user_guide/indexing.html#returning-a-view-versus-a-copy\n",
      "  df['target'][i] = 'PROFANITY'\n",
      "C:\\Users\\hasan\\AppData\\Local\\Temp/ipykernel_3360/1600469743.py:4: SettingWithCopyWarning: \n",
      "A value is trying to be set on a copy of a slice from a DataFrame\n",
      "\n",
      "See the caveats in the documentation: https://pandas.pydata.org/pandas-docs/stable/user_guide/indexing.html#returning-a-view-versus-a-copy\n",
      "  df['target'][i] = 'RACIST'\n",
      "C:\\Users\\hasan\\AppData\\Local\\Temp/ipykernel_3360/1600469743.py:8: SettingWithCopyWarning: \n",
      "A value is trying to be set on a copy of a slice from a DataFrame\n",
      "\n",
      "See the caveats in the documentation: https://pandas.pydata.org/pandas-docs/stable/user_guide/indexing.html#returning-a-view-versus-a-copy\n",
      "  df['target'][i] = 'SEXIST'\n"
     ]
    }
   ],
   "source": [
    "for i in range(100, 500):\n",
    "    inp = input(df['text'][i] + \" --- \" + df['target'][i] + \" --- \" + str(i))\n",
    "    if inp == 'r':\n",
    "        df['target'][i] = 'RACIST'\n",
    "    elif inp == 'p':\n",
    "        df['target'][i] = 'PROFANITY'\n",
    "    elif inp == 's':\n",
    "        df['target'][i] = 'SEXIST'\n",
    "    elif inp == 'i':\n",
    "        df['target'][i] = 'INSULT'\n",
    "    elif inp == 'b':\n",
    "        # delete row\n",
    "        df.drop(i, inplace=True)\n",
    "    elif inp == 'q':\n",
    "        break"
   ]
  },
  {
   "cell_type": "code",
   "execution_count": 4,
   "metadata": {},
   "outputs": [
    {
     "data": {
      "text/html": [
       "<div>\n",
       "<style scoped>\n",
       "    .dataframe tbody tr th:only-of-type {\n",
       "        vertical-align: middle;\n",
       "    }\n",
       "\n",
       "    .dataframe tbody tr th {\n",
       "        vertical-align: top;\n",
       "    }\n",
       "\n",
       "    .dataframe thead th {\n",
       "        text-align: right;\n",
       "    }\n",
       "</style>\n",
       "<table border=\"1\" class=\"dataframe\">\n",
       "  <thead>\n",
       "    <tr style=\"text-align: right;\">\n",
       "      <th></th>\n",
       "      <th>id</th>\n",
       "      <th>text</th>\n",
       "      <th>label</th>\n",
       "      <th>target</th>\n",
       "    </tr>\n",
       "  </thead>\n",
       "  <tbody>\n",
       "    <tr>\n",
       "      <th>101</th>\n",
       "      <td>20387.0</td>\n",
       "      <td>al işte bak kasindin şimdi  kaybol yazma b...</td>\n",
       "      <td>1</td>\n",
       "      <td>INSULT</td>\n",
       "    </tr>\n",
       "    <tr>\n",
       "      <th>103</th>\n",
       "      <td>31974.0</td>\n",
       "      <td>teriminin tassaginida yalasa bu saatten sonra...</td>\n",
       "      <td>1</td>\n",
       "      <td>PROFANITY</td>\n",
       "    </tr>\n",
       "    <tr>\n",
       "      <th>104</th>\n",
       "      <td>37252.0</td>\n",
       "      <td>haydi len boykotcu ibne sana kalsa şimdi yıld...</td>\n",
       "      <td>1</td>\n",
       "      <td>PROFANITY</td>\n",
       "    </tr>\n",
       "    <tr>\n",
       "      <th>105</th>\n",
       "      <td>NaN</td>\n",
       "      <td>yarın soka çıkıcam zevkine suriyeli dövücem amk</td>\n",
       "      <td>1</td>\n",
       "      <td>RACIST</td>\n",
       "    </tr>\n",
       "    <tr>\n",
       "      <th>106</th>\n",
       "      <td>30247.0</td>\n",
       "      <td>bu adam ne demek istiyor reis ne demek iste...</td>\n",
       "      <td>1</td>\n",
       "      <td>INSULT</td>\n",
       "    </tr>\n",
       "    <tr>\n",
       "      <th>...</th>\n",
       "      <td>...</td>\n",
       "      <td>...</td>\n",
       "      <td>...</td>\n",
       "      <td>...</td>\n",
       "    </tr>\n",
       "    <tr>\n",
       "      <th>490</th>\n",
       "      <td>11373.0</td>\n",
       "      <td>para için fenerbahçe sevdanı sattın yazıklar ...</td>\n",
       "      <td>1</td>\n",
       "      <td>INSULT</td>\n",
       "    </tr>\n",
       "    <tr>\n",
       "      <th>493</th>\n",
       "      <td>30424.0</td>\n",
       "      <td>valbuena valbuena dedik adamın girdiğiyle çık...</td>\n",
       "      <td>1</td>\n",
       "      <td>INSULT</td>\n",
       "    </tr>\n",
       "    <tr>\n",
       "      <th>495</th>\n",
       "      <td>34985.0</td>\n",
       "      <td>parayla şampiyonluk ne kadar kolay şerefsizsin</td>\n",
       "      <td>1</td>\n",
       "      <td>INSULT</td>\n",
       "    </tr>\n",
       "    <tr>\n",
       "      <th>498</th>\n",
       "      <td>NaN</td>\n",
       "      <td>hadi ordan kalemi satılık sözde gazeteci seni ...</td>\n",
       "      <td>1</td>\n",
       "      <td>INSULT</td>\n",
       "    </tr>\n",
       "    <tr>\n",
       "      <th>499</th>\n",
       "      <td>37481.0</td>\n",
       "      <td>bu adamı gördüm mü kusasım geliyor bu da oğ...</td>\n",
       "      <td>1</td>\n",
       "      <td>INSULT</td>\n",
       "    </tr>\n",
       "  </tbody>\n",
       "</table>\n",
       "<p>324 rows × 4 columns</p>\n",
       "</div>"
      ],
      "text/plain": [
       "          id                                               text  label  \\\n",
       "101  20387.0      al işte bak kasindin şimdi  kaybol yazma b...      1   \n",
       "103  31974.0   teriminin tassaginida yalasa bu saatten sonra...      1   \n",
       "104  37252.0   haydi len boykotcu ibne sana kalsa şimdi yıld...      1   \n",
       "105      NaN    yarın soka çıkıcam zevkine suriyeli dövücem amk      1   \n",
       "106  30247.0     bu adam ne demek istiyor reis ne demek iste...      1   \n",
       "..       ...                                                ...    ...   \n",
       "490  11373.0   para için fenerbahçe sevdanı sattın yazıklar ...      1   \n",
       "493  30424.0   valbuena valbuena dedik adamın girdiğiyle çık...      1   \n",
       "495  34985.0    parayla şampiyonluk ne kadar kolay şerefsizsin       1   \n",
       "498      NaN  hadi ordan kalemi satılık sözde gazeteci seni ...      1   \n",
       "499  37481.0     bu adamı gördüm mü kusasım geliyor bu da oğ...      1   \n",
       "\n",
       "        target  \n",
       "101     INSULT  \n",
       "103  PROFANITY  \n",
       "104  PROFANITY  \n",
       "105     RACIST  \n",
       "106     INSULT  \n",
       "..         ...  \n",
       "490     INSULT  \n",
       "493     INSULT  \n",
       "495     INSULT  \n",
       "498     INSULT  \n",
       "499     INSULT  \n",
       "\n",
       "[324 rows x 4 columns]"
      ]
     },
     "execution_count": 4,
     "metadata": {},
     "output_type": "execute_result"
    }
   ],
   "source": [
    "df[(df.index >= 100) & (df.index < 500)]"
   ]
  },
  {
   "cell_type": "code",
   "execution_count": 5,
   "metadata": {},
   "outputs": [],
   "source": [
    "df.drop('id', axis=1, inplace=True)\n",
    "df.columns = ['text','is_offensive', 'target']\n",
    "df[(df.index >= 100) & (df.index < 500)].to_csv('./new_generated/0_500/100_500offensive.csv', index=False)"
   ]
  }
 ],
 "metadata": {
  "kernelspec": {
   "display_name": "DataScience",
   "language": "python",
   "name": "python3"
  },
  "language_info": {
   "codemirror_mode": {
    "name": "ipython",
    "version": 3
   },
   "file_extension": ".py",
   "mimetype": "text/x-python",
   "name": "python",
   "nbconvert_exporter": "python",
   "pygments_lexer": "ipython3",
   "version": "3.9.7"
  },
  "orig_nbformat": 4,
  "vscode": {
   "interpreter": {
    "hash": "7f44ca2975e2b24df1b43f43147d75ff5945d4dff92c19966ebf2b71fce0f9e9"
   }
  }
 },
 "nbformat": 4,
 "nbformat_minor": 2
}
