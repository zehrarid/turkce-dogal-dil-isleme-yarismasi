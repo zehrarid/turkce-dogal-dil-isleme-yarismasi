{
 "cells": [
  {
   "cell_type": "code",
   "execution_count": 9,
   "metadata": {},
   "outputs": [
    {
     "name": "stdout",
     "output_type": "stream",
     "text": [
      "Requirement already satisfied: pandas in c:\\users\\zehme\\appdata\\local\\programs\\python\\python310\\lib\\site-packages (1.4.3)\n",
      "Requirement already satisfied: pytz>=2020.1 in c:\\users\\zehme\\appdata\\local\\programs\\python\\python310\\lib\\site-packages (from pandas) (2022.1)\n",
      "Requirement already satisfied: numpy>=1.21.0 in c:\\users\\zehme\\appdata\\local\\programs\\python\\python310\\lib\\site-packages (from pandas) (1.23.1)\n",
      "Requirement already satisfied: python-dateutil>=2.8.1 in c:\\users\\zehme\\appdata\\local\\programs\\python\\python310\\lib\\site-packages (from pandas) (2.8.2)\n",
      "Requirement already satisfied: six>=1.5 in c:\\users\\zehme\\appdata\\local\\programs\\python\\python310\\lib\\site-packages (from python-dateutil>=2.8.1->pandas) (1.16.0)\n",
      "Note: you may need to restart the kernel to use updated packages.\n"
     ]
    }
   ],
   "source": [
    "%pip install pandas\n",
    "import pandas as pd"
   ]
  },
  {
   "cell_type": "code",
   "execution_count": 10,
   "metadata": {},
   "outputs": [],
   "source": [
    "df = pd.read_csv('train.csv')"
   ]
  },
  {
   "cell_type": "code",
   "execution_count": 11,
   "metadata": {},
   "outputs": [
    {
     "data": {
      "text/html": [
       "<div>\n",
       "<style scoped>\n",
       "    .dataframe tbody tr th:only-of-type {\n",
       "        vertical-align: middle;\n",
       "    }\n",
       "\n",
       "    .dataframe tbody tr th {\n",
       "        vertical-align: top;\n",
       "    }\n",
       "\n",
       "    .dataframe thead th {\n",
       "        text-align: right;\n",
       "    }\n",
       "</style>\n",
       "<table border=\"1\" class=\"dataframe\">\n",
       "  <thead>\n",
       "    <tr style=\"text-align: right;\">\n",
       "      <th></th>\n",
       "      <th>id</th>\n",
       "      <th>text</th>\n",
       "      <th>label</th>\n",
       "    </tr>\n",
       "  </thead>\n",
       "  <tbody>\n",
       "    <tr>\n",
       "      <th>0</th>\n",
       "      <td>26418.0</td>\n",
       "      <td>Gerçekten sizin hikayelerinizi izleyerek mi ye...</td>\n",
       "      <td>0</td>\n",
       "    </tr>\n",
       "    <tr>\n",
       "      <th>1</th>\n",
       "      <td>14473.0</td>\n",
       "      <td>@USER Çoook çok bi baklava bi sen zaten</td>\n",
       "      <td>0</td>\n",
       "    </tr>\n",
       "    <tr>\n",
       "      <th>2</th>\n",
       "      <td>16107.0</td>\n",
       "      <td>1) Sn. DÜKEL; Atatürk'ün, Karma E. M. ile başl...</td>\n",
       "      <td>0</td>\n",
       "    </tr>\n",
       "    <tr>\n",
       "      <th>3</th>\n",
       "      <td>45908.0</td>\n",
       "      <td>Konfederasyonumuzun Aile ve Sosyal Politikalar...</td>\n",
       "      <td>0</td>\n",
       "    </tr>\n",
       "    <tr>\n",
       "      <th>4</th>\n",
       "      <td>12878.0</td>\n",
       "      <td>Hakemler tarih yazıyorlar / 9 kişiye karşı 3-2...</td>\n",
       "      <td>1</td>\n",
       "    </tr>\n",
       "    <tr>\n",
       "      <th>...</th>\n",
       "      <td>...</td>\n",
       "      <td>...</td>\n",
       "      <td>...</td>\n",
       "    </tr>\n",
       "    <tr>\n",
       "      <th>42393</th>\n",
       "      <td>NaN</td>\n",
       "      <td>Takım otobüsüne saldırmak nedir ulan şerefini ...</td>\n",
       "      <td>1</td>\n",
       "    </tr>\n",
       "    <tr>\n",
       "      <th>42394</th>\n",
       "      <td>NaN</td>\n",
       "      <td>@nightmareess_ Aynı bu şekldiyedim ya  başlica...</td>\n",
       "      <td>1</td>\n",
       "    </tr>\n",
       "    <tr>\n",
       "      <th>42395</th>\n",
       "      <td>NaN</td>\n",
       "      <td>@prodbyjaysou @kkesbekes ya kaybol twitimden k...</td>\n",
       "      <td>1</td>\n",
       "    </tr>\n",
       "    <tr>\n",
       "      <th>42396</th>\n",
       "      <td>NaN</td>\n",
       "      <td>@82_6363AB Ben hdpliyim ve vermeyecem ama akp ...</td>\n",
       "      <td>1</td>\n",
       "    </tr>\n",
       "    <tr>\n",
       "      <th>42397</th>\n",
       "      <td>NaN</td>\n",
       "      <td>Bi airdrop sapığı eksikti aq</td>\n",
       "      <td>1</td>\n",
       "    </tr>\n",
       "  </tbody>\n",
       "</table>\n",
       "<p>42398 rows × 3 columns</p>\n",
       "</div>"
      ],
      "text/plain": [
       "            id                                               text  label\n",
       "0      26418.0  Gerçekten sizin hikayelerinizi izleyerek mi ye...      0\n",
       "1      14473.0            @USER Çoook çok bi baklava bi sen zaten      0\n",
       "2      16107.0  1) Sn. DÜKEL; Atatürk'ün, Karma E. M. ile başl...      0\n",
       "3      45908.0  Konfederasyonumuzun Aile ve Sosyal Politikalar...      0\n",
       "4      12878.0  Hakemler tarih yazıyorlar / 9 kişiye karşı 3-2...      1\n",
       "...        ...                                                ...    ...\n",
       "42393      NaN  Takım otobüsüne saldırmak nedir ulan şerefini ...      1\n",
       "42394      NaN  @nightmareess_ Aynı bu şekldiyedim ya  başlica...      1\n",
       "42395      NaN  @prodbyjaysou @kkesbekes ya kaybol twitimden k...      1\n",
       "42396      NaN  @82_6363AB Ben hdpliyim ve vermeyecem ama akp ...      1\n",
       "42397      NaN                       Bi airdrop sapığı eksikti aq      1\n",
       "\n",
       "[42398 rows x 3 columns]"
      ]
     },
     "execution_count": 11,
     "metadata": {},
     "output_type": "execute_result"
    }
   ],
   "source": [
    "df"
   ]
  },
  {
   "cell_type": "code",
   "execution_count": 12,
   "metadata": {},
   "outputs": [
    {
     "name": "stderr",
     "output_type": "stream",
     "text": [
      "C:\\Users\\zehme\\AppData\\Local\\Temp\\ipykernel_16672\\2365508853.py:3: FutureWarning: The default value of regex will change from True to False in a future version.\n",
      "  df['text'] = df['text'].str.replace('[^\\w\\s]','')\n"
     ]
    }
   ],
   "source": [
    "df['text'] = df['text'].str.lower()\n",
    "#remove the punctuation\n",
    "df['text'] = df['text'].str.replace('[^\\w\\s]','')"
   ]
  },
  {
   "cell_type": "code",
   "execution_count": 17,
   "metadata": {},
   "outputs": [
    {
     "data": {
      "text/html": [
       "<div>\n",
       "<style scoped>\n",
       "    .dataframe tbody tr th:only-of-type {\n",
       "        vertical-align: middle;\n",
       "    }\n",
       "\n",
       "    .dataframe tbody tr th {\n",
       "        vertical-align: top;\n",
       "    }\n",
       "\n",
       "    .dataframe thead th {\n",
       "        text-align: right;\n",
       "    }\n",
       "</style>\n",
       "<table border=\"1\" class=\"dataframe\">\n",
       "  <thead>\n",
       "    <tr style=\"text-align: right;\">\n",
       "      <th></th>\n",
       "      <th>id</th>\n",
       "      <th>text</th>\n",
       "      <th>label</th>\n",
       "    </tr>\n",
       "  </thead>\n",
       "  <tbody>\n",
       "    <tr>\n",
       "      <th>0</th>\n",
       "      <td>26418.0</td>\n",
       "      <td>gerçekten sizin hikayelerinizi izleyerek mi ye...</td>\n",
       "      <td>0</td>\n",
       "    </tr>\n",
       "    <tr>\n",
       "      <th>1</th>\n",
       "      <td>14473.0</td>\n",
       "      <td>çoook çok bi baklava bi sen zaten</td>\n",
       "      <td>0</td>\n",
       "    </tr>\n",
       "    <tr>\n",
       "      <th>2</th>\n",
       "      <td>16107.0</td>\n",
       "      <td>sn dükel atatürkün karma e m ile başlattığı s...</td>\n",
       "      <td>0</td>\n",
       "    </tr>\n",
       "    <tr>\n",
       "      <th>3</th>\n",
       "      <td>45908.0</td>\n",
       "      <td>konfederasyonumuzun aile ve sosyal politikalar...</td>\n",
       "      <td>0</td>\n",
       "    </tr>\n",
       "    <tr>\n",
       "      <th>4</th>\n",
       "      <td>12878.0</td>\n",
       "      <td>hakemler tarih yazıyorlar   kişiye karşı  önde...</td>\n",
       "      <td>1</td>\n",
       "    </tr>\n",
       "    <tr>\n",
       "      <th>...</th>\n",
       "      <td>...</td>\n",
       "      <td>...</td>\n",
       "      <td>...</td>\n",
       "    </tr>\n",
       "    <tr>\n",
       "      <th>42393</th>\n",
       "      <td>NaN</td>\n",
       "      <td>takım otobüsüne saldırmak nedir ulan şerefini ...</td>\n",
       "      <td>1</td>\n",
       "    </tr>\n",
       "    <tr>\n",
       "      <th>42394</th>\n",
       "      <td>NaN</td>\n",
       "      <td>nightmareess_ aynı bu şekldiyedim ya  başlicam...</td>\n",
       "      <td>1</td>\n",
       "    </tr>\n",
       "    <tr>\n",
       "      <th>42395</th>\n",
       "      <td>NaN</td>\n",
       "      <td>prodbyjaysou kkesbekes ya kaybol twitimden kod...</td>\n",
       "      <td>1</td>\n",
       "    </tr>\n",
       "    <tr>\n",
       "      <th>42396</th>\n",
       "      <td>NaN</td>\n",
       "      <td>_ab ben hdpliyim ve vermeyecem ama akp zaten s...</td>\n",
       "      <td>1</td>\n",
       "    </tr>\n",
       "    <tr>\n",
       "      <th>42397</th>\n",
       "      <td>NaN</td>\n",
       "      <td>bi airdrop sapığı eksikti aq</td>\n",
       "      <td>1</td>\n",
       "    </tr>\n",
       "  </tbody>\n",
       "</table>\n",
       "<p>42398 rows × 3 columns</p>\n",
       "</div>"
      ],
      "text/plain": [
       "            id                                               text  label\n",
       "0      26418.0  gerçekten sizin hikayelerinizi izleyerek mi ye...      0\n",
       "1      14473.0                  çoook çok bi baklava bi sen zaten      0\n",
       "2      16107.0   sn dükel atatürkün karma e m ile başlattığı s...      0\n",
       "3      45908.0  konfederasyonumuzun aile ve sosyal politikalar...      0\n",
       "4      12878.0  hakemler tarih yazıyorlar   kişiye karşı  önde...      1\n",
       "...        ...                                                ...    ...\n",
       "42393      NaN  takım otobüsüne saldırmak nedir ulan şerefini ...      1\n",
       "42394      NaN  nightmareess_ aynı bu şekldiyedim ya  başlicam...      1\n",
       "42395      NaN  prodbyjaysou kkesbekes ya kaybol twitimden kod...      1\n",
       "42396      NaN  _ab ben hdpliyim ve vermeyecem ama akp zaten s...      1\n",
       "42397      NaN                       bi airdrop sapığı eksikti aq      1\n",
       "\n",
       "[42398 rows x 3 columns]"
      ]
     },
     "execution_count": 17,
     "metadata": {},
     "output_type": "execute_result"
    }
   ],
   "source": [
    "df = df.replace('user', '', regex=True)\n",
    "df = df.replace('\\d', '', regex=True)\n",
    "df = df.replace(r'\\bhttps?://\\S+', '', regex=True)\n",
    "df"
   ]
  },
  {
   "cell_type": "code",
   "execution_count": 18,
   "metadata": {},
   "outputs": [],
   "source": [
    "#write the data to a csv file\n",
    "df.to_csv('train_clean.csv', index=False)"
   ]
  }
 ],
 "metadata": {
  "kernelspec": {
   "display_name": "Python 3",
   "language": "python",
   "name": "python3"
  },
  "language_info": {
   "codemirror_mode": {
    "name": "ipython",
    "version": 3
   },
   "file_extension": ".py",
   "mimetype": "text/x-python",
   "name": "python",
   "nbconvert_exporter": "python",
   "pygments_lexer": "ipython3",
   "version": "3.10.4"
  },
  "orig_nbformat": 4
 },
 "nbformat": 4,
 "nbformat_minor": 2
}
